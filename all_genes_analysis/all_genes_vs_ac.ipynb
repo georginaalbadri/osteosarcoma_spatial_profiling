{
 "cells": [
  {
   "cell_type": "code",
   "execution_count": 1,
   "metadata": {},
   "outputs": [],
   "source": [
    "import numpy as np\n",
    "import pandas as pd\n",
    "from scipy import stats\n",
    "import matplotlib.pyplot as plt\n",
    "import seaborn as sns"
   ]
  },
  {
   "cell_type": "code",
   "execution_count": 2,
   "metadata": {},
   "outputs": [],
   "source": [
    "# Read in the excel file in excel_data folder\n",
    "df = pd.read_excel('../all_genes_data/all_genes_data.xlsx', sheet_name='Sheet1', skiprows=7, names=['Target', 'ac', 'ac2', 'ac3', 'MRC5', 'MRC52', 'MRC53', 'hOB', 'hOB2', 'hOB3'])"
   ]
  },
  {
   "cell_type": "code",
   "execution_count": 3,
   "metadata": {},
   "outputs": [
    {
     "data": {
      "text/html": [
       "<div>\n",
       "<style scoped>\n",
       "    .dataframe tbody tr th:only-of-type {\n",
       "        vertical-align: middle;\n",
       "    }\n",
       "\n",
       "    .dataframe tbody tr th {\n",
       "        vertical-align: top;\n",
       "    }\n",
       "\n",
       "    .dataframe thead th {\n",
       "        text-align: right;\n",
       "    }\n",
       "</style>\n",
       "<table border=\"1\" class=\"dataframe\">\n",
       "  <thead>\n",
       "    <tr style=\"text-align: right;\">\n",
       "      <th></th>\n",
       "      <th>ac</th>\n",
       "      <th>ac2</th>\n",
       "      <th>ac3</th>\n",
       "      <th>MRC5</th>\n",
       "      <th>MRC52</th>\n",
       "      <th>MRC53</th>\n",
       "      <th>hOB</th>\n",
       "      <th>hOB2</th>\n",
       "      <th>hOB3</th>\n",
       "    </tr>\n",
       "    <tr>\n",
       "      <th>Target</th>\n",
       "      <th></th>\n",
       "      <th></th>\n",
       "      <th></th>\n",
       "      <th></th>\n",
       "      <th></th>\n",
       "      <th></th>\n",
       "      <th></th>\n",
       "      <th></th>\n",
       "      <th></th>\n",
       "    </tr>\n",
       "  </thead>\n",
       "  <tbody>\n",
       "    <tr>\n",
       "      <th>SPRY4</th>\n",
       "      <td>3.730821</td>\n",
       "      <td>3.798188</td>\n",
       "      <td>3.451263</td>\n",
       "      <td>3.497535</td>\n",
       "      <td>3.689837</td>\n",
       "      <td>3.552548</td>\n",
       "      <td>3.900631</td>\n",
       "      <td>4.094785</td>\n",
       "      <td>3.828594</td>\n",
       "    </tr>\n",
       "    <tr>\n",
       "      <th>GTF2H3</th>\n",
       "      <td>3.515030</td>\n",
       "      <td>3.485248</td>\n",
       "      <td>3.169992</td>\n",
       "      <td>2.932415</td>\n",
       "      <td>3.209663</td>\n",
       "      <td>2.437185</td>\n",
       "      <td>2.662102</td>\n",
       "      <td>3.085906</td>\n",
       "      <td>3.073130</td>\n",
       "    </tr>\n",
       "    <tr>\n",
       "      <th>FCGR3A/B</th>\n",
       "      <td>3.281045</td>\n",
       "      <td>3.664448</td>\n",
       "      <td>3.573407</td>\n",
       "      <td>2.681745</td>\n",
       "      <td>2.912696</td>\n",
       "      <td>2.343588</td>\n",
       "      <td>2.856153</td>\n",
       "      <td>2.221520</td>\n",
       "      <td>3.023712</td>\n",
       "    </tr>\n",
       "    <tr>\n",
       "      <th>ATG5</th>\n",
       "      <td>3.470017</td>\n",
       "      <td>3.579098</td>\n",
       "      <td>3.131463</td>\n",
       "      <td>3.525251</td>\n",
       "      <td>3.321418</td>\n",
       "      <td>3.567146</td>\n",
       "      <td>2.779095</td>\n",
       "      <td>3.477778</td>\n",
       "      <td>3.437836</td>\n",
       "    </tr>\n",
       "    <tr>\n",
       "      <th>GLUD1</th>\n",
       "      <td>3.178131</td>\n",
       "      <td>3.400363</td>\n",
       "      <td>3.312186</td>\n",
       "      <td>2.951279</td>\n",
       "      <td>2.739936</td>\n",
       "      <td>2.616457</td>\n",
       "      <td>2.603546</td>\n",
       "      <td>3.368913</td>\n",
       "      <td>2.745644</td>\n",
       "    </tr>\n",
       "  </tbody>\n",
       "</table>\n",
       "</div>"
      ],
      "text/plain": [
       "                ac       ac2       ac3      MRC5     MRC52     MRC53  \\\n",
       "Target                                                                 \n",
       "SPRY4     3.730821  3.798188  3.451263  3.497535  3.689837  3.552548   \n",
       "GTF2H3    3.515030  3.485248  3.169992  2.932415  3.209663  2.437185   \n",
       "FCGR3A/B  3.281045  3.664448  3.573407  2.681745  2.912696  2.343588   \n",
       "ATG5      3.470017  3.579098  3.131463  3.525251  3.321418  3.567146   \n",
       "GLUD1     3.178131  3.400363  3.312186  2.951279  2.739936  2.616457   \n",
       "\n",
       "               hOB      hOB2      hOB3  \n",
       "Target                                  \n",
       "SPRY4     3.900631  4.094785  3.828594  \n",
       "GTF2H3    2.662102  3.085906  3.073130  \n",
       "FCGR3A/B  2.856153  2.221520  3.023712  \n",
       "ATG5      2.779095  3.477778  3.437836  \n",
       "GLUD1     2.603546  3.368913  2.745644  "
      ]
     },
     "execution_count": 3,
     "metadata": {},
     "output_type": "execute_result"
    }
   ],
   "source": [
    "# make the Target column the index\n",
    "df.set_index('Target', inplace=True)\n",
    "df.head()"
   ]
  },
  {
   "attachments": {},
   "cell_type": "markdown",
   "metadata": {},
   "source": [
    "## T-test significantly changed gene expression for hOB vs ac and MRC vs ac (Welch's t-test)"
   ]
  },
  {
   "cell_type": "code",
   "execution_count": 4,
   "metadata": {},
   "outputs": [],
   "source": [
    "df_ttest = df.copy()"
   ]
  },
  {
   "cell_type": "code",
   "execution_count": 5,
   "metadata": {},
   "outputs": [],
   "source": [
    "# make new dataframe for each group\n",
    "df_hOB = df_ttest[['hOB', 'hOB2', 'hOB3']].T\n",
    "df_ac = df_ttest[['ac', 'ac2', 'ac3']].T\n",
    "df_MRC5 = df_ttest[['MRC5', 'MRC52', 'MRC53']].T"
   ]
  },
  {
   "cell_type": "code",
   "execution_count": 6,
   "metadata": {},
   "outputs": [
    {
     "name": "stdout",
     "output_type": "stream",
     "text": [
      "no. of genes in pathway:  1333\n"
     ]
    }
   ],
   "source": [
    "gene_list = df_ttest.index.values.tolist()\n",
    "\n",
    "print('no. of genes in pathway: ', len(gene_list))"
   ]
  },
  {
   "cell_type": "code",
   "execution_count": 7,
   "metadata": {},
   "outputs": [
    {
     "name": "stdout",
     "output_type": "stream",
     "text": [
      "% of genes that changed in MRC5:  53.1132783195799\n",
      "no. of genes that changed in MRC5:  708\n"
     ]
    }
   ],
   "source": [
    "# t-test MRC vs ac\n",
    "\n",
    "MRC5_changed_genes = []\n",
    "\n",
    "for gene in gene_list:\n",
    "    stat, pval = stats.ttest_ind(df_MRC5[gene], df_ac[gene], equal_var = False)\n",
    "    if pval < 0.05:\n",
    "        MRC5_changed_genes.append(gene)\n",
    "\n",
    "print('% of genes that changed in MRC5: ', 100*len(MRC5_changed_genes)/len(gene_list))\n",
    "print('no. of genes that changed in MRC5: ', len(MRC5_changed_genes))"
   ]
  },
  {
   "cell_type": "code",
   "execution_count": 8,
   "metadata": {},
   "outputs": [
    {
     "name": "stdout",
     "output_type": "stream",
     "text": [
      "% of genes that changed in hOB:  32.40810202550637\n",
      "no. of genes that changed in hOB:  432\n"
     ]
    }
   ],
   "source": [
    "# t-test hOB vs ac\n",
    "\n",
    "hOB_changed_genes = []\n",
    "\n",
    "for gene in gene_list:\n",
    "    stat, pval = stats.ttest_ind(df_hOB[gene], df_ac[gene], equal_var = False)\n",
    "    if pval < 0.05:\n",
    "        hOB_changed_genes.append(gene)\n",
    "\n",
    "print('% of genes that changed in hOB: ', 100*len(hOB_changed_genes)/len(gene_list))\n",
    "print('no. of genes that changed in hOB: ', len(hOB_changed_genes))"
   ]
  },
  {
   "cell_type": "code",
   "execution_count": 9,
   "metadata": {},
   "outputs": [
    {
     "name": "stdout",
     "output_type": "stream",
     "text": [
      "% of genes that changed in either MRC5 or hOB:  61.59039759939985\n"
     ]
    }
   ],
   "source": [
    "print('% of genes that changed in either MRC5 or hOB: ', 100*len(set(MRC5_changed_genes).union(hOB_changed_genes))/len(gene_list))"
   ]
  },
  {
   "attachments": {},
   "cell_type": "markdown",
   "metadata": {},
   "source": [
    "### Find which % increased or decreased expression in MRC vs ac and hOB vs ac"
   ]
  },
  {
   "cell_type": "code",
   "execution_count": 10,
   "metadata": {},
   "outputs": [],
   "source": [
    "# make new columns for the average of each group\n",
    "df_ttest['hOB_avg'] = df_ttest[['hOB', 'hOB2', 'hOB3']].mean(axis=1)\n",
    "df_ttest['ac_avg'] = df_ttest[['ac', 'ac2', 'ac3']].mean(axis=1)\n",
    "df_ttest['MRC5_avg'] = df_ttest[['MRC5', 'MRC52', 'MRC53']].mean(axis=1)"
   ]
  },
  {
   "cell_type": "code",
   "execution_count": 11,
   "metadata": {},
   "outputs": [
    {
     "name": "stdout",
     "output_type": "stream",
     "text": [
      "no. of genes that increased in MRC5:  229\n",
      "no. of genes that decreased in MRC5:  479\n",
      "percentage of changed genes that increased in MRC5:  32.344632768361585\n",
      "percentage of changed genes that decreased in MRC5:  67.65536723163842\n",
      "percentage of total genes that increased in MRC5:  17.179294823705927\n",
      "percentage of total genes that decreased in MRC5:  35.93398349587397\n"
     ]
    }
   ],
   "source": [
    "# find no. of genes that increased in MRC5\n",
    "MRC5_up_genes = []\n",
    "\n",
    "for gene in MRC5_changed_genes:\n",
    "    if df_ttest.loc[gene, 'MRC5_avg'] > df_ttest.loc[gene, 'ac_avg']:\n",
    "        MRC5_up_genes.append(gene)\n",
    "\n",
    "print('no. of genes that increased in MRC5: ', len(MRC5_up_genes))\n",
    "\n",
    "# find no of genes that decreased in MRC5\n",
    "MRC5_down_genes = []\n",
    "\n",
    "for gene in MRC5_changed_genes:\n",
    "    if df_ttest.loc[gene, 'MRC5_avg'] < df_ttest.loc[gene, 'ac_avg']:\n",
    "        MRC5_down_genes.append(gene)\n",
    "\n",
    "print('no. of genes that decreased in MRC5: ', len(MRC5_down_genes))\n",
    "\n",
    "print('percentage of changed genes that increased in MRC5: ', 100*len(MRC5_up_genes)/len(MRC5_changed_genes))\n",
    "print('percentage of changed genes that decreased in MRC5: ', 100*len(MRC5_down_genes)/len(MRC5_changed_genes))\n",
    "\n",
    "print('percentage of total genes that increased in MRC5: ', 100*len(MRC5_up_genes)/len(gene_list))\n",
    "print('percentage of total genes that decreased in MRC5: ', 100*len(MRC5_down_genes)/len(gene_list))\n"
   ]
  },
  {
   "cell_type": "code",
   "execution_count": 12,
   "metadata": {},
   "outputs": [
    {
     "name": "stdout",
     "output_type": "stream",
     "text": [
      "no. of genes that increased in hOB:  174\n",
      "no. of genes that decreased in hOB:  258\n",
      "percentage of changed genes that increased in hOB:  40.27777777777778\n",
      "percentage of changed genes that decreased in hOB:  59.72222222222222\n",
      "percentage of total genes that increased in hOB:  13.053263315828957\n",
      "percentage of total genes that decreased in hOB:  19.35483870967742\n"
     ]
    }
   ],
   "source": [
    "# find no. of genes that increased in hOB\n",
    "hOB_up_genes = []\n",
    "\n",
    "for gene in hOB_changed_genes:\n",
    "    if df_ttest.loc[gene, 'hOB_avg'] > df_ttest.loc[gene, 'ac_avg']:\n",
    "        hOB_up_genes.append(gene)\n",
    "\n",
    "print('no. of genes that increased in hOB: ', len(hOB_up_genes))\n",
    "\n",
    "# find no of genes that decreased in hOB\n",
    "hOB_down_genes = []\n",
    "\n",
    "for gene in hOB_changed_genes:\n",
    "    if df_ttest.loc[gene, 'hOB_avg'] < df_ttest.loc[gene, 'ac_avg']:\n",
    "        hOB_down_genes.append(gene)\n",
    "\n",
    "print('no. of genes that decreased in hOB: ', len(hOB_down_genes))\n",
    "\n",
    "print('percentage of changed genes that increased in hOB: ', 100*len(hOB_up_genes)/len(hOB_changed_genes))\n",
    "print('percentage of changed genes that decreased in hOB: ', 100*len(hOB_down_genes)/len(hOB_changed_genes))\n",
    "\n",
    "print('percentage of total genes that increased in hOB: ', 100*len(hOB_up_genes)/len(gene_list))\n",
    "print('percentage of total genes that decreased in hOB: ', 100*len(hOB_down_genes)/len(gene_list))\n"
   ]
  },
  {
   "cell_type": "code",
   "execution_count": 13,
   "metadata": {},
   "outputs": [
    {
     "name": "stdout",
     "output_type": "stream",
     "text": [
      "no. of genes that increased in both:  117\n",
      "no. of genes that decreased in both:  183\n"
     ]
    }
   ],
   "source": [
    "# find no. of genes that increased in both\n",
    "both_up_genes = []\n",
    "\n",
    "for gene in set(MRC5_changed_genes).intersection(hOB_changed_genes):\n",
    "    if df_ttest.loc[gene, 'MRC5_avg'] > df_ttest.loc[gene, 'ac_avg'] and df_ttest.loc[gene, 'hOB_avg'] > df_ttest.loc[gene, 'ac_avg']:\n",
    "        both_up_genes.append(gene)\n",
    "\n",
    "print('no. of genes that increased in both: ', len(both_up_genes))\n",
    "\n",
    "# find no of genes that decreased in both\n",
    "both_down_genes = []\n",
    "\n",
    "for gene in set(MRC5_changed_genes).intersection(hOB_changed_genes):\n",
    "    if df_ttest.loc[gene, 'MRC5_avg'] < df_ttest.loc[gene, 'ac_avg'] and df_ttest.loc[gene, 'hOB_avg'] < df_ttest.loc[gene, 'ac_avg']:\n",
    "        both_down_genes.append(gene)\n",
    "\n",
    "print('no. of genes that decreased in both: ', len(both_down_genes))\n"
   ]
  },
  {
   "cell_type": "code",
   "execution_count": 14,
   "metadata": {},
   "outputs": [
    {
     "name": "stdout",
     "output_type": "stream",
     "text": [
      "no of genes that increased in MRC5 and decreased in hOB:  7\n",
      "no of genes that decreased in MRC5 and increased in hOB:  12\n"
     ]
    }
   ],
   "source": [
    "print('no of genes that increased in MRC5 and decreased in hOB: ', len(set(MRC5_up_genes).intersection(hOB_down_genes)))\n",
    "\n",
    "print('no of genes that decreased in MRC5 and increased in hOB: ', len(set(MRC5_down_genes).intersection(hOB_up_genes)))"
   ]
  },
  {
   "attachments": {},
   "cell_type": "markdown",
   "metadata": {},
   "source": [
    "## Donut plot to show changes in gene expression overall (vs acellular)"
   ]
  },
  {
   "cell_type": "code",
   "execution_count": 15,
   "metadata": {},
   "outputs": [],
   "source": [
    "# find % of genes upregulated in MRC5 but not in hOB_changed_genes\n",
    "\n",
    "MRC5_up_only= []\n",
    "\n",
    "for gene in MRC5_up_genes:\n",
    "    if gene not in hOB_changed_genes:\n",
    "        MRC5_up_only.append(gene)\n",
    "\n",
    "\n",
    "# find % of genes downregulated in MRC5 but not in hOB_changed_genes\n",
    "\n",
    "MRC5_down_only= []\n",
    "\n",
    "for gene in MRC5_down_genes:\n",
    "    if gene not in hOB_changed_genes:\n",
    "        MRC5_down_only.append(gene)"
   ]
  },
  {
   "cell_type": "code",
   "execution_count": 16,
   "metadata": {},
   "outputs": [],
   "source": [
    "# find % of genes upregulated in hOB but not in MRC5_changed_genes\n",
    "\n",
    "hOB_up_only= []\n",
    "\n",
    "for gene in hOB_up_genes:\n",
    "    if gene not in MRC5_changed_genes:\n",
    "        hOB_up_only.append(gene)\n",
    "\n",
    "# find % of genes downregulated in hOB but not in MRC5_changed_genes\n",
    "\n",
    "hOB_down_only= []\n",
    "\n",
    "for gene in hOB_down_genes:\n",
    "    if gene not in MRC5_changed_genes:\n",
    "        hOB_down_only.append(gene)\n",
    "        "
   ]
  },
  {
   "cell_type": "code",
   "execution_count": 17,
   "metadata": {},
   "outputs": [],
   "source": [
    "# find % of genes upregulated in MRC5 and downregulated in hOB\n",
    "\n",
    "MRC5_up_hOB_down= []\n",
    "\n",
    "for gene in set(MRC5_up_genes).intersection(hOB_down_genes):\n",
    "    MRC5_up_hOB_down.append(gene)\n",
    "\n",
    "# find % of genes downregulated in MRC5 and upregulated in hOB\n",
    "\n",
    "MRC5_down_hOB_up= []\n",
    "\n",
    "for gene in set(MRC5_down_genes).intersection(hOB_up_genes):\n",
    "    MRC5_down_hOB_up.append(gene)\n",
    "\n",
    "# combine lists\n",
    "differentially_expressed = MRC5_up_hOB_down + MRC5_down_hOB_up "
   ]
  },
  {
   "cell_type": "code",
   "execution_count": 18,
   "metadata": {},
   "outputs": [],
   "source": [
    "percent_list = [len(MRC5_up_only)/len(gene_list), len(MRC5_down_only)/len(gene_list), len(hOB_up_only)/len(gene_list), len(hOB_down_only)/len(gene_list), len(both_up_genes)/len(gene_list), len(both_down_genes)/len(gene_list), len(differentially_expressed)/len(gene_list)]\n",
    "\n",
    "changed_percent = np.sum(percent_list)\n",
    "\n",
    "percent_list.append(1-changed_percent)"
   ]
  },
  {
   "cell_type": "code",
   "execution_count": 19,
   "metadata": {},
   "outputs": [],
   "source": [
    "cmap = plt.get_cmap(\"tab20\")\n",
    "colors = cmap([2, 3, 8, 9, 18, 19, 12, 15]) # these will all be the same"
   ]
  },
  {
   "cell_type": "code",
   "execution_count": 20,
   "metadata": {},
   "outputs": [
    {
     "data": {
      "image/png": "[encoded data removed]",
      "text/plain": [
       "<Figure size 396x396 with 1 Axes>"
      ]
     },
     "metadata": {},
     "output_type": "display_data"
    }
   ],
   "source": [
    "fig, ax = plt.subplots(figsize =(5.5, 5.5))\n",
    "\n",
    "size = 0.3\n",
    "\n",
    "_, _, inner_autotext = ax.pie(percent_list, radius=0.8, colors=colors,\n",
    "       wedgeprops=dict(width=size, edgecolor='w'), autopct='%1.1f%%', pctdistance=0.8, textprops=dict(fontsize=7), startangle=-20)\n",
    "\n",
    "# make legend \n",
    "labels = ['Increased in MRC5 only', 'Decreased in MRC5 only', 'Increased in hOB only', 'Decreased in hOB only', 'Increased in both', 'Decreased in both', 'Differentially expressed', 'No significant difference']\n",
    "ax.legend(labels, loc='upper left', bbox_to_anchor=(0.9,0.9), fontsize=12)\n",
    "\n",
    "plt.title('Osteosarcoma stroma comparison', fontsize=14, position=(0.5, 0.9))\n",
    "\n",
    "plt.savefig('../all_genes_figures/osteosarcoma_overview_donut.png', dpi=300, bbox_inches='tight')"
   ]
  },
  {
   "attachments": {},
   "cell_type": "markdown",
   "metadata": {},
   "source": [
    "## Genes with altered expression in MRC vs ac only "
   ]
  },
  {
   "cell_type": "code",
   "execution_count": 21,
   "metadata": {},
   "outputs": [],
   "source": [
    "# remove log transform to find fold change\n",
    "df_ttest = 2**df_ttest"
   ]
  },
  {
   "cell_type": "code",
   "execution_count": 22,
   "metadata": {},
   "outputs": [],
   "source": [
    "MRC5_changed_only = MRC5_up_only + MRC5_down_only"
   ]
  },
  {
   "cell_type": "code",
   "execution_count": 23,
   "metadata": {},
   "outputs": [],
   "source": [
    "MRC5_up_vs_ac_fold_change = []\n",
    "\n",
    "for gene in MRC5_up_only:\n",
    "    MRC5_up_vs_ac_fold_change.append(df_ttest.loc[gene, 'MRC5_avg']/df_ttest.loc[gene, 'ac_avg'])\n",
    "\n",
    "MRC5_down_vs_ac_fold_change = []\n",
    "\n",
    "for gene in MRC5_down_only:\n",
    "    MRC5_down_vs_ac_fold_change.append(df_ttest.loc[gene, 'ac_avg']/df_ttest.loc[gene, 'MRC5_avg'])\n"
   ]
  },
  {
   "cell_type": "code",
   "execution_count": 24,
   "metadata": {},
   "outputs": [
    {
     "name": "stdout",
     "output_type": "stream",
     "text": [
      "[(11.748484716524855, 'H3C10'), (10.802183807503928, 'HLA-A'), (10.704720670188191, 'HLA-B'), (10.57032101852035, 'ALDOA'), (10.389936724467503, 'BST2'), (10.136764987324677, 'IFI27'), (9.123022442773488, 'IFI6'), (8.36547049501411, 'HLA-C'), (7.248099451804131, 'CLU'), (7.183849923376896, 'TAP1')]\n"
     ]
    },
    {
     "data": {
      "image/png": "[encoded data removed]",
      "text/plain": [
       "<Figure size 720x360 with 1 Axes>"
      ]
     },
     "metadata": {
      "needs_background": "light"
     },
     "output_type": "display_data"
    }
   ],
   "source": [
    "# make bar chart of 10 most upregulated genes in MRC5 vs ac\n",
    "\n",
    "MRC5_up_vs_ac_top10 = []\n",
    "\n",
    "# make list of blue colors from dark to light\n",
    "colors = sns.color_palette(\"Blues_r\", 12)\n",
    "\n",
    "# make list of tuples using MRC5_up_vs_ac_fold_change and MRC5_up_only \n",
    "MRC5_up_vs_ac_top10 = [(MRC5_up_vs_ac_fold_change[i], MRC5_up_only[i]) for i in range(len(MRC5_up_vs_ac_fold_change))]\n",
    "\n",
    "# order list in decreasing order of MRC5_up_vs_ac_fold_change\n",
    "MRC5_up_vs_ac_top10.sort(reverse=True)\n",
    "\n",
    "# make list of top 10 genes\n",
    "MRC5_up_vs_ac_top10 = MRC5_up_vs_ac_top10[:10]\n",
    "print(MRC5_up_vs_ac_top10)\n",
    "\n",
    "# plot top 10 genes with multicolor bar chart\n",
    "fig, ax = plt.subplots(figsize=(10, 5))\n",
    "for i in range(len(MRC5_up_vs_ac_top10)):\n",
    "    ax.bar(MRC5_up_vs_ac_top10[i][1], MRC5_up_vs_ac_top10[i][0], color=colors[i])\n",
    "\n",
    "ax.set_xlabel('Gene', fontsize=14)\n",
    "ax.set_ylabel('Fold change', fontsize=14)\n",
    "ax.set_title('Top 10 genes upregulated in MRC5 only', fontsize=14)\n",
    "plt.xticks(fontsize=14)\n",
    "plt.yticks(fontsize=14)\n",
    "plt.savefig('../all_genes_figures/MRC5_up_top10.png', dpi=300, bbox_inches='tight')\n",
    "\n",
    "    \n"
   ]
  },
  {
   "cell_type": "code",
   "execution_count": 25,
   "metadata": {},
   "outputs": [
    {
     "data": {
      "image/png": "[encoded data removed]",
      "text/plain": [
       "<Figure size 720x360 with 1 Axes>"
      ]
     },
     "metadata": {
      "needs_background": "light"
     },
     "output_type": "display_data"
    }
   ],
   "source": [
    "# make bar chart of 10 most downregulated genes in MRC5 vs ac\n",
    "\n",
    "MRC5_down_vs_ac_top10 = []\n",
    "\n",
    "# make list of tuples using MRC5_down_vs_ac_fold_change and MRC5_down_only\n",
    "MRC5_down_vs_ac_top10 = [(MRC5_down_vs_ac_fold_change[i], MRC5_down_only[i]) for i in range(len(MRC5_down_vs_ac_fold_change))]\n",
    "\n",
    "# order list in decreasing order of MRC5_down_vs_ac_fold_change\n",
    "MRC5_down_vs_ac_top10.sort(reverse=True)\n",
    "\n",
    "# make list of top 10 genes\n",
    "MRC5_down_vs_ac_top10 = MRC5_down_vs_ac_top10[:10]\n",
    "\n",
    "# plot top 10 genes with multicolor bar chart\n",
    "fig, ax = plt.subplots(figsize=(10, 5))\n",
    "for i in range(len(MRC5_down_vs_ac_top10)):\n",
    "    ax.bar(MRC5_down_vs_ac_top10[i][1], MRC5_down_vs_ac_top10[i][0], color=colors[i])\n",
    "\n",
    "ax.set_xlabel('Gene', fontsize=14)\n",
    "ax.set_ylabel('Fold change', fontsize=14)\n",
    "ax.set_title('Top 10 genes downregulated in MRC5 only', fontsize=14)\n",
    "plt.xticks(fontsize=14)\n",
    "plt.yticks(fontsize=14)\n",
    "plt.savefig('../all_genes_figures/MRC5_down_top10.png', dpi=300, bbox_inches='tight')"
   ]
  },
  {
   "attachments": {},
   "cell_type": "markdown",
   "metadata": {},
   "source": [
    "## Genes with altered expression in hOB vs ac only"
   ]
  },
  {
   "cell_type": "code",
   "execution_count": 26,
   "metadata": {},
   "outputs": [],
   "source": [
    "hOB_changed_only = hOB_down_only + hOB_up_only"
   ]
  },
  {
   "cell_type": "code",
   "execution_count": 27,
   "metadata": {},
   "outputs": [],
   "source": [
    "hOB_up_vs_ac_fold_change = []\n",
    "\n",
    "for gene in hOB_up_only:\n",
    "    hOB_up_vs_ac_fold_change.append(df_ttest.loc[gene, 'hOB_avg']/df_ttest.loc[gene, 'ac_avg'])\n",
    "\n",
    "hOB_down_vs_ac_fold_change = []\n",
    "\n",
    "for gene in hOB_down_only:\n",
    "    hOB_down_vs_ac_fold_change.append(df_ttest.loc[gene, 'ac_avg']/df_ttest.loc[gene, 'hOB_avg'])\n"
   ]
  },
  {
   "cell_type": "code",
   "execution_count": 28,
   "metadata": {},
   "outputs": [
    {
     "data": {
      "image/png": "[encoded data removed]",
      "text/plain": [
       "<Figure size 864x360 with 1 Axes>"
      ]
     },
     "metadata": {
      "needs_background": "light"
     },
     "output_type": "display_data"
    }
   ],
   "source": [
    "# make bar chart of 10 most upregulated genes in hOB vs ac\n",
    "\n",
    "hOB_up_vs_ac_top10 = []\n",
    "\n",
    "# make list of tuples using hOB_up_only and hOB_up_vs_ac_fold_change\n",
    "for i in range(len(hOB_up_only)):\n",
    "    hOB_up_vs_ac_top10.append((hOB_up_only[i], hOB_up_vs_ac_fold_change[i]))\n",
    "\n",
    "# sort list of tuples by fold change\n",
    "hOB_up_vs_ac_top10.sort(key=lambda tup: tup[1], reverse=True)\n",
    "\n",
    "# make list of top 10 genes\n",
    "hOB_up_vs_ac_top10 = hOB_up_vs_ac_top10[:10]\n",
    "\n",
    "# plot top 10 genes\n",
    "plt.figure(figsize=(12, 5))\n",
    "for i in range(len(hOB_up_vs_ac_top10)):\n",
    "    plt.bar(hOB_up_vs_ac_top10[i][0], hOB_up_vs_ac_top10[i][1], color=colors[i])\n",
    "\n",
    "plt.xlabel('Gene', fontsize = 14)\n",
    "plt.ylabel('Fold change', fontsize = 14)\n",
    "plt.title('Top 10 genes upregulated in hOB only', fontsize = 14)\n",
    "plt.xticks(fontsize = 14)\n",
    "plt.yticks(fontsize = 14)\n",
    "plt.savefig('../all_genes_figures/hOB_up_top10.png', dpi=300)"
   ]
  },
  {
   "cell_type": "code",
   "execution_count": 29,
   "metadata": {},
   "outputs": [
    {
     "data": {
      "image/png": "[encoded data removed]",
      "text/plain": [
       "<Figure size 864x360 with 1 Axes>"
      ]
     },
     "metadata": {
      "needs_background": "light"
     },
     "output_type": "display_data"
    }
   ],
   "source": [
    "# make bar chart of 10 most downregulated genes in hOB vs ac\n",
    "\n",
    "hOB_down_vs_ac_top10 = []\n",
    "\n",
    "# make list of tuples using hOB_down_only and hOB_down_vs_ac_fold_change\n",
    "for i in range(len(hOB_down_only)):\n",
    "    hOB_down_vs_ac_top10.append((hOB_down_only[i], hOB_down_vs_ac_fold_change[i]))\n",
    "\n",
    "# sort list of tuples by fold change\n",
    "hOB_down_vs_ac_top10.sort(key=lambda tup: tup[1], reverse=True)\n",
    "\n",
    "# make list of top 10 genes\n",
    "hOB_down_vs_ac_top10 = hOB_down_vs_ac_top10[:10]\n",
    "\n",
    "# plot top 10 genes\n",
    "plt.figure(figsize=(12, 5))\n",
    "for i in range(len(hOB_down_vs_ac_top10)):\n",
    "    plt.bar(hOB_down_vs_ac_top10[i][0], hOB_down_vs_ac_top10[i][1], color=colors[i])\n",
    "\n",
    "plt.xlabel('Gene', fontsize=14)\n",
    "plt.ylabel('Fold change', fontsize=14)\n",
    "plt.title('Top 10 genes downregulated in hOB only', fontsize=14)\n",
    "plt.xticks(fontsize = 14)\n",
    "plt.yticks(fontsize = 14)\n",
    "plt.savefig('../all_genes_figures/hOB_down_top10.png', dpi=300)"
   ]
  },
  {
   "attachments": {},
   "cell_type": "markdown",
   "metadata": {},
   "source": [
    "## Genes differentially expressed MRC vs ac compared to hOB vs ac"
   ]
  },
  {
   "cell_type": "code",
   "execution_count": 30,
   "metadata": {},
   "outputs": [],
   "source": [
    "MRC5_up_hOB_down_FC = []\n",
    "\n",
    "for gene in MRC5_up_hOB_down:\n",
    "    MRC5_up_hOB_down_FC.append(df_ttest.loc[gene, 'MRC5_avg']/df_ttest.loc[gene, 'hOB_avg'])\n",
    "\n",
    "MRC5_down_hOB_up_FC = []\n",
    "\n",
    "for gene in MRC5_down_hOB_up:\n",
    "    MRC5_down_hOB_up_FC.append(df_ttest.loc[gene, 'hOB_avg']/df_ttest.loc[gene, 'MRC5_avg'])\n"
   ]
  },
  {
   "cell_type": "code",
   "execution_count": 31,
   "metadata": {},
   "outputs": [
    {
     "data": {
      "image/png": "[encoded data removed]",
      "text/plain": [
       "<Figure size 720x360 with 1 Axes>"
      ]
     },
     "metadata": {
      "needs_background": "light"
     },
     "output_type": "display_data"
    }
   ],
   "source": [
    "# make bar chart of genes upregulated in MRC5 and downregulated in hOB\n",
    "\n",
    "# make tuple using MRC5_up_hOB_down and MRC5_up_hOB_down_FC\n",
    "MRC5_up_hOB_down_all = []\n",
    "for i in range(len(MRC5_up_hOB_down)):\n",
    "    MRC5_up_hOB_down_all.append((MRC5_up_hOB_down[i], MRC5_up_hOB_down_FC[i]))\n",
    "\n",
    "# sort list of tuples by fold change\n",
    "MRC5_up_hOB_down_all.sort(key=lambda tup: tup[1], reverse=True)\n",
    "\n",
    "# plot all genes\n",
    "plt.figure(figsize=(10, 5))\n",
    "for i in range(len(MRC5_up_hOB_down_all)):\n",
    "    plt.bar(MRC5_up_hOB_down_all[i][0], MRC5_up_hOB_down_all[i][1], color=colors[i])\n",
    "\n",
    "plt.xlabel('Gene', fontsize=14)\n",
    "plt.ylabel('Fold change', fontsize=14)\n",
    "plt.title('All genes upregulated in MRC5 and downregulated in hOB', fontsize=14)\n",
    "plt.xticks(fontsize = 14)\n",
    "plt.yticks(fontsize = 14)\n",
    "plt.savefig('../all_genes_figures/MRC5_up_hOB_down_all.png', dpi=300)\n"
   ]
  },
  {
   "cell_type": "code",
   "execution_count": 32,
   "metadata": {},
   "outputs": [
    {
     "data": {
      "image/png": "[encoded data removed]",
      "text/plain": [
       "<Figure size 936x360 with 1 Axes>"
      ]
     },
     "metadata": {
      "needs_background": "light"
     },
     "output_type": "display_data"
    }
   ],
   "source": [
    "# make bar chart of genes downregulated in MRC5 and upregulated in hOB\n",
    "\n",
    "# make tuple using MRC5_down_hOB_up and MRC5_down_hOB_up_FC\n",
    "MRC5_down_hOB_up_all = []\n",
    "for i in range(len(MRC5_down_hOB_up)):\n",
    "    MRC5_down_hOB_up_all.append((MRC5_down_hOB_up[i], MRC5_down_hOB_up_FC[i]))\n",
    "    \n",
    "# sort list of tuples by fold change\n",
    "MRC5_down_hOB_up_all.sort(key=lambda tup: tup[1], reverse=True)\n",
    "\n",
    "# plot all genes\n",
    "plt.figure(figsize=(13, 5))\n",
    "for i in range(len(MRC5_down_hOB_up_all)):\n",
    "    plt.bar(MRC5_down_hOB_up_all[i][0], MRC5_down_hOB_up_all[i][1], color=colors[i])\n",
    "\n",
    "plt.xlabel('Gene', fontsize=14)\n",
    "plt.ylabel('Fold change', fontsize=14)\n",
    "plt.title('All genes downregulated in MRC5 and upregulated in hOB', fontsize=14)\n",
    "plt.xticks(fontsize = 14)\n",
    "plt.yticks(fontsize = 14)\n",
    "plt.savefig('../all_genes_figures/MRC5_down_hOB_up_all.png', dpi=300)"
   ]
  },
  {
   "cell_type": "code",
   "execution_count": null,
   "metadata": {},
   "outputs": [],
   "source": []
  }
 ],
 "metadata": {
  "kernelspec": {
   "display_name": "base",
   "language": "python",
   "name": "python3"
  },
  "language_info": {
   "codemirror_mode": {
    "name": "ipython",
    "version": 3
   },
   "file_extension": ".py",
   "mimetype": "text/x-python",
   "name": "python",
   "nbconvert_exporter": "python",
   "pygments_lexer": "ipython3",
   "version": "3.7.3"
  },
  "orig_nbformat": 4
 },
 "nbformat": 4,
 "nbformat_minor": 2
}
