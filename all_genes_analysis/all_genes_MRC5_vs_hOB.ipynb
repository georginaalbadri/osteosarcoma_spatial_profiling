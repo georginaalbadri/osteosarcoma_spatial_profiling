{
 "cells": [
  {
   "cell_type": "code",
   "execution_count": 25,
   "metadata": {},
   "outputs": [],
   "source": [
    "import numpy as np\n",
    "import pandas as pd\n",
    "from scipy import stats\n",
    "import matplotlib.pyplot as plt\n",
    "import seaborn as sns"
   ]
  },
  {
   "cell_type": "code",
   "execution_count": 26,
   "metadata": {},
   "outputs": [
    {
     "data": {
      "text/html": [
       "<div>\n",
       "<style scoped>\n",
       "    .dataframe tbody tr th:only-of-type {\n",
       "        vertical-align: middle;\n",
       "    }\n",
       "\n",
       "    .dataframe tbody tr th {\n",
       "        vertical-align: top;\n",
       "    }\n",
       "\n",
       "    .dataframe thead th {\n",
       "        text-align: right;\n",
       "    }\n",
       "</style>\n",
       "<table border=\"1\" class=\"dataframe\">\n",
       "  <thead>\n",
       "    <tr style=\"text-align: right;\">\n",
       "      <th></th>\n",
       "      <th>ac</th>\n",
       "      <th>ac2</th>\n",
       "      <th>ac3</th>\n",
       "      <th>MRC5</th>\n",
       "      <th>MRC52</th>\n",
       "      <th>MRC53</th>\n",
       "      <th>hOB</th>\n",
       "      <th>hOB2</th>\n",
       "      <th>hOB3</th>\n",
       "    </tr>\n",
       "    <tr>\n",
       "      <th>Target</th>\n",
       "      <th></th>\n",
       "      <th></th>\n",
       "      <th></th>\n",
       "      <th></th>\n",
       "      <th></th>\n",
       "      <th></th>\n",
       "      <th></th>\n",
       "      <th></th>\n",
       "      <th></th>\n",
       "    </tr>\n",
       "  </thead>\n",
       "  <tbody>\n",
       "    <tr>\n",
       "      <th>SPRY4</th>\n",
       "      <td>3.730821</td>\n",
       "      <td>3.798188</td>\n",
       "      <td>3.451263</td>\n",
       "      <td>3.497535</td>\n",
       "      <td>3.689837</td>\n",
       "      <td>3.552548</td>\n",
       "      <td>3.900631</td>\n",
       "      <td>4.094785</td>\n",
       "      <td>3.828594</td>\n",
       "    </tr>\n",
       "    <tr>\n",
       "      <th>GTF2H3</th>\n",
       "      <td>3.515030</td>\n",
       "      <td>3.485248</td>\n",
       "      <td>3.169992</td>\n",
       "      <td>2.932415</td>\n",
       "      <td>3.209663</td>\n",
       "      <td>2.437185</td>\n",
       "      <td>2.662102</td>\n",
       "      <td>3.085906</td>\n",
       "      <td>3.073130</td>\n",
       "    </tr>\n",
       "    <tr>\n",
       "      <th>FCGR3A/B</th>\n",
       "      <td>3.281045</td>\n",
       "      <td>3.664448</td>\n",
       "      <td>3.573407</td>\n",
       "      <td>2.681745</td>\n",
       "      <td>2.912696</td>\n",
       "      <td>2.343588</td>\n",
       "      <td>2.856153</td>\n",
       "      <td>2.221520</td>\n",
       "      <td>3.023712</td>\n",
       "    </tr>\n",
       "    <tr>\n",
       "      <th>ATG5</th>\n",
       "      <td>3.470017</td>\n",
       "      <td>3.579098</td>\n",
       "      <td>3.131463</td>\n",
       "      <td>3.525251</td>\n",
       "      <td>3.321418</td>\n",
       "      <td>3.567146</td>\n",
       "      <td>2.779095</td>\n",
       "      <td>3.477778</td>\n",
       "      <td>3.437836</td>\n",
       "    </tr>\n",
       "    <tr>\n",
       "      <th>GLUD1</th>\n",
       "      <td>3.178131</td>\n",
       "      <td>3.400363</td>\n",
       "      <td>3.312186</td>\n",
       "      <td>2.951279</td>\n",
       "      <td>2.739936</td>\n",
       "      <td>2.616457</td>\n",
       "      <td>2.603546</td>\n",
       "      <td>3.368913</td>\n",
       "      <td>2.745644</td>\n",
       "    </tr>\n",
       "  </tbody>\n",
       "</table>\n",
       "</div>"
      ],
      "text/plain": [
       "                ac       ac2       ac3      MRC5     MRC52     MRC53  \\\n",
       "Target                                                                 \n",
       "SPRY4     3.730821  3.798188  3.451263  3.497535  3.689837  3.552548   \n",
       "GTF2H3    3.515030  3.485248  3.169992  2.932415  3.209663  2.437185   \n",
       "FCGR3A/B  3.281045  3.664448  3.573407  2.681745  2.912696  2.343588   \n",
       "ATG5      3.470017  3.579098  3.131463  3.525251  3.321418  3.567146   \n",
       "GLUD1     3.178131  3.400363  3.312186  2.951279  2.739936  2.616457   \n",
       "\n",
       "               hOB      hOB2      hOB3  \n",
       "Target                                  \n",
       "SPRY4     3.900631  4.094785  3.828594  \n",
       "GTF2H3    2.662102  3.085906  3.073130  \n",
       "FCGR3A/B  2.856153  2.221520  3.023712  \n",
       "ATG5      2.779095  3.477778  3.437836  \n",
       "GLUD1     2.603546  3.368913  2.745644  "
      ]
     },
     "execution_count": 26,
     "metadata": {},
     "output_type": "execute_result"
    }
   ],
   "source": [
    "# Read in the excel file in excel_data folder\n",
    "df = pd.read_excel('../all_genes_data/all_genes_data.xlsx', sheet_name='Sheet1', skiprows=7, names=['Target', 'ac', 'ac2', 'ac3', 'MRC5', 'MRC52', 'MRC53', 'hOB', 'hOB2', 'hOB3'])\n",
    "\n",
    "# make the Target column the index\n",
    "df.set_index('Target', inplace=True)\n",
    "df.head()"
   ]
  },
  {
   "cell_type": "code",
   "execution_count": 27,
   "metadata": {},
   "outputs": [],
   "source": [
    "df_ttest = df.copy()\n",
    "\n",
    "# make new columns for the average of each group\n",
    "df_ttest['hOB_avg'] = df_ttest[['hOB', 'hOB2', 'hOB3']].mean(axis=1)\n",
    "df_ttest['ac_avg'] = df_ttest[['ac', 'ac2', 'ac3']].mean(axis=1)\n",
    "df_ttest['MRC5_avg'] = df_ttest[['MRC5', 'MRC52', 'MRC53']].mean(axis=1)\n",
    "\n",
    "# make new dataframe for each group\n",
    "df_hOB = df_ttest[['hOB', 'hOB2', 'hOB3']].T\n",
    "df_ac = df_ttest[['ac', 'ac2', 'ac3']].T\n",
    "df_MRC5 = df_ttest[['MRC5', 'MRC52', 'MRC53']].T"
   ]
  },
  {
   "cell_type": "code",
   "execution_count": 28,
   "metadata": {},
   "outputs": [],
   "source": [
    "gene_list = df_ttest.index.values.tolist()"
   ]
  },
  {
   "attachments": {},
   "cell_type": "markdown",
   "metadata": {},
   "source": [
    "## T-test which genes were differentially expressed hOB vs MRC5"
   ]
  },
  {
   "cell_type": "code",
   "execution_count": 29,
   "metadata": {},
   "outputs": [
    {
     "name": "stdout",
     "output_type": "stream",
     "text": [
      "no. of genes that changed in MRC5 vs hOB:  355\n",
      "% of genes that changed in MRC5 vs hOB:  26.63165791447862\n"
     ]
    }
   ],
   "source": [
    "hOB_vs_MRC5_changed_genes = []\n",
    "\n",
    "for gene in gene_list:\n",
    "    stat, pval = stats.ttest_ind(df_hOB[gene], df_MRC5[gene])\n",
    "    if pval < 0.05:\n",
    "        hOB_vs_MRC5_changed_genes.append(gene)\n",
    "\n",
    "print('no. of genes that changed in MRC5 vs hOB: ', len(hOB_vs_MRC5_changed_genes))\n",
    "print('% of genes that changed in MRC5 vs hOB: ', 100*len(hOB_vs_MRC5_changed_genes)/len(gene_list))"
   ]
  },
  {
   "cell_type": "code",
   "execution_count": 30,
   "metadata": {},
   "outputs": [
    {
     "name": "stdout",
     "output_type": "stream",
     "text": [
      "no. of genes that increased in MRC5 vs hOB:  182\n",
      "percentge of genes that increased in MRC5 vs hOB:  51.267605633802816\n",
      "percentage of total genes that increased in MRC5 vs hOB:  13.653413353338335\n",
      "no. of genes that decreased in MRC5 vs hOB:  173\n",
      "percentge of genes that decreased in MRC5 vs hOB:  48.732394366197184\n",
      "percentage of total genes that decreased in MRC5 vs hOB:  12.978244561140285\n"
     ]
    }
   ],
   "source": [
    "# find no. of genes that increased in MRC5 vs hOB\n",
    "MRC5_up_vs_hOB_genes = []\n",
    "\n",
    "for gene in hOB_vs_MRC5_changed_genes:\n",
    "    if df_ttest.loc[gene, 'MRC5_avg'] > df_ttest.loc[gene, 'hOB_avg']:\n",
    "        MRC5_up_vs_hOB_genes.append(gene)\n",
    "\n",
    "print('no. of genes that increased in MRC5 vs hOB: ', len(MRC5_up_vs_hOB_genes))\n",
    "print('percentge of genes that increased in MRC5 vs hOB: ', 100*len(MRC5_up_vs_hOB_genes)/len(hOB_vs_MRC5_changed_genes))\n",
    "print('percentage of total genes that increased in MRC5 vs hOB: ', 100*len(MRC5_up_vs_hOB_genes)/len(gene_list))\n",
    "\n",
    "# find no of genes that decreased in MRC5 vs hOB\n",
    "MRC5_down_vs_hOB_genes = []\n",
    "\n",
    "for gene in hOB_vs_MRC5_changed_genes:\n",
    "    if df_ttest.loc[gene, 'MRC5_avg'] < df_ttest.loc[gene, 'hOB_avg']:\n",
    "        MRC5_down_vs_hOB_genes.append(gene)\n",
    "\n",
    "print('no. of genes that decreased in MRC5 vs hOB: ', len(MRC5_down_vs_hOB_genes))\n",
    "print('percentge of genes that decreased in MRC5 vs hOB: ', 100*len(MRC5_down_vs_hOB_genes)/len(hOB_vs_MRC5_changed_genes))\n",
    "print('percentage of total genes that decreased in MRC5 vs hOB: ', 100*len(MRC5_down_vs_hOB_genes)/len(gene_list))"
   ]
  },
  {
   "cell_type": "code",
   "execution_count": 31,
   "metadata": {},
   "outputs": [
    {
     "name": "stdout",
     "output_type": "stream",
     "text": [
      "no. of genes that decreased in MRC5 vs hOB and fold change >= 2:  8\n",
      "no. of genes that increased in MRC5 vs hOB and fold change >= 2:  6\n"
     ]
    }
   ],
   "source": [
    "MRC_down_hOB_genes_fold_2 = []\n",
    "\n",
    "for gene in MRC5_up_vs_hOB_genes:\n",
    "    if df_ttest.loc[gene, 'MRC5_avg']/df_ttest.loc[gene, 'hOB_avg'] >= 2:\n",
    "        MRC_down_hOB_genes_fold_2.append(gene)\n",
    "\n",
    "print('no. of genes that decreased in MRC5 vs hOB and fold change >= 2: ', len(MRC_down_hOB_genes_fold_2))\n",
    "\n",
    "MRC_up_hOB_genes_fold_2 = []\n",
    "\n",
    "for gene in MRC5_down_vs_hOB_genes:\n",
    "    if df_ttest.loc[gene, 'MRC5_avg']/df_ttest.loc[gene, 'hOB_avg'] <= 0.5:\n",
    "        MRC_up_hOB_genes_fold_2.append(gene)\n",
    "\n",
    "print('no. of genes that increased in MRC5 vs hOB and fold change >= 2: ', len(MRC_up_hOB_genes_fold_2))"
   ]
  },
  {
   "attachments": {},
   "cell_type": "markdown",
   "metadata": {},
   "source": [
    "## Donut plot for MRC5 vs hOB expression difference"
   ]
  },
  {
   "cell_type": "code",
   "execution_count": 32,
   "metadata": {},
   "outputs": [],
   "source": [
    "percent_list = [len(MRC5_up_vs_hOB_genes)/len(gene_list), len(MRC5_down_vs_hOB_genes)/len(gene_list)]\n",
    "\n",
    "changed_percent = np.sum(percent_list)\n",
    "\n",
    "percent_list.append(1-changed_percent)"
   ]
  },
  {
   "cell_type": "code",
   "execution_count": 33,
   "metadata": {},
   "outputs": [
    {
     "data": {
      "image/png": "[encoded data removed]",
      "text/plain": [
       "<Figure size 396x396 with 1 Axes>"
      ]
     },
     "metadata": {},
     "output_type": "display_data"
    }
   ],
   "source": [
    "cmap = plt.get_cmap(\"tab20\")\n",
    "colors = cmap([2, 8, 15]) \n",
    "\n",
    "fig, ax = plt.subplots(figsize =(5.5, 5.5))\n",
    "\n",
    "size = 0.3\n",
    "\n",
    "_, _, inner_autotext = ax.pie(percent_list, radius=0.8, colors=colors,\n",
    "       wedgeprops=dict(width=size, edgecolor='w'), autopct='%1.1f%%', pctdistance=0.8, textprops=dict(fontsize=7), startangle=-20)\n",
    "\n",
    "# make legend \n",
    "labels = ['Higher in MRC5 than hOB', 'Lower in MRC5 than hOB', 'No significant difference between MRC5 and hOB']\n",
    "ax.legend(labels, loc='upper left', bbox_to_anchor=(0.9,0.9), fontsize=12)\n",
    "\n",
    "plt.title('Osteosarcoma MRC5 vs hOB expression', fontsize=14, position=(0.5, 0.9))\n",
    "\n",
    "plt.savefig('../all_genes_figures/osteosarcoma_MRC5_vs_hOB_donut.png', dpi=300, bbox_inches='tight')\n",
    "\n"
   ]
  },
  {
   "attachments": {},
   "cell_type": "markdown",
   "metadata": {},
   "source": [
    "### Fold change of genes MRC5 vs hOB"
   ]
  },
  {
   "cell_type": "code",
   "execution_count": 34,
   "metadata": {},
   "outputs": [],
   "source": [
    "# remove log transform to find fold change\n",
    "df_ttest = 2**df_ttest"
   ]
  },
  {
   "cell_type": "code",
   "execution_count": 35,
   "metadata": {},
   "outputs": [],
   "source": [
    "# make new fold change list for fold change above 5\n",
    "\n",
    "MRC5_up_vs_hOB_fold_change_5 = []\n",
    "MRC5_up_vs_hOB_genes_5 = []\n",
    "\n",
    "for gene in MRC5_up_vs_hOB_genes:\n",
    "    if df_ttest.loc[gene, 'MRC5_avg']/df_ttest.loc[gene, 'hOB_avg'] > 5:\n",
    "        MRC5_up_vs_hOB_fold_change_5.append(df_ttest.loc[gene, 'MRC5_avg']/df_ttest.loc[gene, 'hOB_avg'])\n",
    "        MRC5_up_vs_hOB_genes_5.append(gene)\n",
    "\n",
    "\n",
    "MRC5_down_vs_hOB_fold_change_5 = []\n",
    "MRC5_down_vs_hOB_genes_5 = []\n",
    "\n",
    "\n",
    "for gene in MRC5_down_vs_hOB_genes:\n",
    "    if df_ttest.loc[gene, 'hOB_avg']/df_ttest.loc[gene, 'MRC5_avg'] > 5:\n",
    "        MRC5_down_vs_hOB_fold_change_5.append(df_ttest.loc[gene, 'hOB_avg']/df_ttest.loc[gene, 'MRC5_avg'])\n",
    "        MRC5_down_vs_hOB_genes_5.append(gene)"
   ]
  },
  {
   "cell_type": "code",
   "execution_count": 36,
   "metadata": {},
   "outputs": [
    {
     "data": {
      "image/png": "[encoded data removed]",
      "text/plain": [
       "<Figure size 1080x360 with 1 Axes>"
      ]
     },
     "metadata": {
      "needs_background": "light"
     },
     "output_type": "display_data"
    }
   ],
   "source": [
    "MRC5_up_vs_hOB_fc5 = []\n",
    "\n",
    "# make list of tuples using MRC5_up_vs_hOB_genes_5 and MRC5_up_vs_hOB_fold_change_5\n",
    "for i in range(len(MRC5_up_vs_hOB_genes_5)):\n",
    "    MRC5_up_vs_hOB_fc5.append((MRC5_up_vs_hOB_genes_5[i], MRC5_up_vs_hOB_fold_change_5[i]))\n",
    "\n",
    "# sort list of tuples by fold change\n",
    "MRC5_up_vs_hOB_fc5.sort(key=lambda tup: tup[1], reverse=True)\n",
    "\n",
    "# make list of colors for plot\n",
    "colors = sns.color_palette(\"Blues_r\", 16)\n",
    "\n",
    "# plot top 10\n",
    "plt.figure(figsize=(15, 5))\n",
    "for i in range(len(MRC5_up_vs_hOB_fc5)):\n",
    "    plt.bar(MRC5_up_vs_hOB_fc5[i][0], MRC5_up_vs_hOB_fc5[i][1], color= colors[i])\n",
    "\n",
    "plt.title('Genes with higher expression in MRC5 than hOB (FD > 5)', fontsize=14)\n",
    "plt.ylabel('Fold difference', fontsize=14)\n",
    "plt.xlabel('Gene', fontsize=14)\n",
    "plt.xticks(fontsize = 14)\n",
    "plt.yticks(fontsize = 14)\n",
    "plt.savefig('../all_genes_figures/MRC5_up_vs_hOB_fc5.png', dpi=300, bbox_inches='tight')"
   ]
  },
  {
   "cell_type": "code",
   "execution_count": 37,
   "metadata": {},
   "outputs": [
    {
     "data": {
      "image/png": "[encoded data removed]",
      "text/plain": [
       "<Figure size 720x360 with 1 Axes>"
      ]
     },
     "metadata": {
      "needs_background": "light"
     },
     "output_type": "display_data"
    }
   ],
   "source": [
    "MRC5_down_vs_hOB_fc5 = []\n",
    "\n",
    "# make list of tuples using MRC5_down_vs_hOB_genes_5 and MRC5_down_vs_hOB_fold_change_5\n",
    "for i in range(len(MRC5_down_vs_hOB_genes_5)):\n",
    "    MRC5_down_vs_hOB_fc5.append((MRC5_down_vs_hOB_genes_5[i], MRC5_down_vs_hOB_fold_change_5[i]))\n",
    "\n",
    "# sort list of tuples by fold change\n",
    "MRC5_down_vs_hOB_fc5.sort(key=lambda tup: tup[1], reverse=True)\n",
    "\n",
    "colors = sns.color_palette(\"Blues_r\", 8)\n",
    "\n",
    "# plot all\n",
    "plt.figure(figsize=(10, 5))\n",
    "for i in range(len(MRC5_down_vs_hOB_fc5)):\n",
    "    plt.bar(MRC5_down_vs_hOB_fc5[i][0], MRC5_down_vs_hOB_fc5[i][1], color= colors[i])\n",
    "\n",
    "plt.title('Genes with higher expression in hOB than MRC5 (FD > 5)', fontsize=14)\n",
    "plt.ylabel('Fold difference', fontsize=14)\n",
    "plt.xlabel('Gene', fontsize=14)\n",
    "plt.xticks(fontsize = 14)\n",
    "plt.yticks(fontsize = 14)\n",
    "plt.savefig('../all_genes_figures/MRC5_down_vs_hOB_fc5.png', dpi=300, bbox_inches='tight')"
   ]
  }
 ],
 "metadata": {
  "kernelspec": {
   "display_name": "base",
   "language": "python",
   "name": "python3"
  },
  "language_info": {
   "codemirror_mode": {
    "name": "ipython",
    "version": 3
   },
   "file_extension": ".py",
   "mimetype": "text/x-python",
   "name": "python",
   "nbconvert_exporter": "python",
   "pygments_lexer": "ipython3",
   "version": "3.7.3"
  },
  "orig_nbformat": 4
 },
 "nbformat": 4,
 "nbformat_minor": 2
}
