{
 "cells": [
  {
   "cell_type": "code",
   "execution_count": 152,
   "metadata": {},
   "outputs": [],
   "source": [
    "import numpy as np\n",
    "import pandas as pd\n",
    "from scipy import stats\n",
    "import scipy.cluster.hierarchy as sch\n",
    "import seaborn as sns"
   ]
  },
  {
   "attachments": {},
   "cell_type": "markdown",
   "metadata": {},
   "source": [
    "## Load data for chosen pathway"
   ]
  },
  {
   "cell_type": "code",
   "execution_count": 153,
   "metadata": {},
   "outputs": [],
   "source": [
    "# Set data file name and pathway name\n",
    "\n",
    "file_name = 'invasion_genes.xlsx'\n",
    "pathway_name = 'Invasion'\n"
   ]
  },
  {
   "cell_type": "code",
   "execution_count": 154,
   "metadata": {},
   "outputs": [],
   "source": [
    "# Read in the excel file in excel_data folder\n",
    "df = pd.read_excel(f'../pathway_data/{file_name}', sheet_name='Sheet1', skiprows=7, names=['Target', 'ac', 'ac2', 'ac3', 'MRC5', 'MRC52', 'MRC53', 'hOB', 'hOB2', 'hOB3'])"
   ]
  },
  {
   "cell_type": "code",
   "execution_count": 155,
   "metadata": {},
   "outputs": [
    {
     "data": {
      "text/html": [
       "<div>\n",
       "<style scoped>\n",
       "    .dataframe tbody tr th:only-of-type {\n",
       "        vertical-align: middle;\n",
       "    }\n",
       "\n",
       "    .dataframe tbody tr th {\n",
       "        vertical-align: top;\n",
       "    }\n",
       "\n",
       "    .dataframe thead th {\n",
       "        text-align: right;\n",
       "    }\n",
       "</style>\n",
       "<table border=\"1\" class=\"dataframe\">\n",
       "  <thead>\n",
       "    <tr style=\"text-align: right;\">\n",
       "      <th></th>\n",
       "      <th>ac</th>\n",
       "      <th>ac2</th>\n",
       "      <th>ac3</th>\n",
       "      <th>MRC5</th>\n",
       "      <th>MRC52</th>\n",
       "      <th>MRC53</th>\n",
       "      <th>hOB</th>\n",
       "      <th>hOB2</th>\n",
       "      <th>hOB3</th>\n",
       "    </tr>\n",
       "    <tr>\n",
       "      <th>Target</th>\n",
       "      <th></th>\n",
       "      <th></th>\n",
       "      <th></th>\n",
       "      <th></th>\n",
       "      <th></th>\n",
       "      <th></th>\n",
       "      <th></th>\n",
       "      <th></th>\n",
       "      <th></th>\n",
       "    </tr>\n",
       "  </thead>\n",
       "  <tbody>\n",
       "    <tr>\n",
       "      <th>AKT1</th>\n",
       "      <td>3.216660</td>\n",
       "      <td>3.604679</td>\n",
       "      <td>3.246980</td>\n",
       "      <td>4.449136</td>\n",
       "      <td>4.590257</td>\n",
       "      <td>4.385165</td>\n",
       "      <td>4.266576</td>\n",
       "      <td>4.299984</td>\n",
       "      <td>4.348928</td>\n",
       "    </tr>\n",
       "    <tr>\n",
       "      <th>AKT2</th>\n",
       "      <td>3.545431</td>\n",
       "      <td>3.251513</td>\n",
       "      <td>2.710901</td>\n",
       "      <td>3.961825</td>\n",
       "      <td>4.027125</td>\n",
       "      <td>4.066001</td>\n",
       "      <td>3.207130</td>\n",
       "      <td>3.855505</td>\n",
       "      <td>3.590218</td>\n",
       "    </tr>\n",
       "    <tr>\n",
       "      <th>AKT3</th>\n",
       "      <td>3.289174</td>\n",
       "      <td>3.506088</td>\n",
       "      <td>3.510080</td>\n",
       "      <td>3.314312</td>\n",
       "      <td>3.238529</td>\n",
       "      <td>3.174454</td>\n",
       "      <td>3.290138</td>\n",
       "      <td>3.394770</td>\n",
       "      <td>3.107115</td>\n",
       "    </tr>\n",
       "    <tr>\n",
       "      <th>RUNX3</th>\n",
       "      <td>3.681045</td>\n",
       "      <td>3.533420</td>\n",
       "      <td>3.885675</td>\n",
       "      <td>3.125866</td>\n",
       "      <td>3.023737</td>\n",
       "      <td>2.746872</td>\n",
       "      <td>2.456153</td>\n",
       "      <td>2.787535</td>\n",
       "      <td>3.273592</td>\n",
       "    </tr>\n",
       "    <tr>\n",
       "      <th>RORC</th>\n",
       "      <td>2.881045</td>\n",
       "      <td>3.768592</td>\n",
       "      <td>4.000976</td>\n",
       "      <td>2.804317</td>\n",
       "      <td>2.780389</td>\n",
       "      <td>2.720680</td>\n",
       "      <td>3.290138</td>\n",
       "      <td>2.568913</td>\n",
       "      <td>2.980329</td>\n",
       "    </tr>\n",
       "  </tbody>\n",
       "</table>\n",
       "</div>"
      ],
      "text/plain": [
       "              ac       ac2       ac3      MRC5     MRC52     MRC53       hOB  \\\n",
       "Target                                                                         \n",
       "AKT1    3.216660  3.604679  3.246980  4.449136  4.590257  4.385165  4.266576   \n",
       "AKT2    3.545431  3.251513  2.710901  3.961825  4.027125  4.066001  3.207130   \n",
       "AKT3    3.289174  3.506088  3.510080  3.314312  3.238529  3.174454  3.290138   \n",
       "RUNX3   3.681045  3.533420  3.885675  3.125866  3.023737  2.746872  2.456153   \n",
       "RORC    2.881045  3.768592  4.000976  2.804317  2.780389  2.720680  3.290138   \n",
       "\n",
       "            hOB2      hOB3  \n",
       "Target                      \n",
       "AKT1    4.299984  4.348928  \n",
       "AKT2    3.855505  3.590218  \n",
       "AKT3    3.394770  3.107115  \n",
       "RUNX3   2.787535  3.273592  \n",
       "RORC    2.568913  2.980329  "
      ]
     },
     "execution_count": 155,
     "metadata": {},
     "output_type": "execute_result"
    }
   ],
   "source": [
    "# make the Target column the index\n",
    "df.set_index('Target', inplace=True)\n",
    "df.head()"
   ]
  },
  {
   "attachments": {},
   "cell_type": "markdown",
   "metadata": {},
   "source": [
    "## T-test for genes with significant change in expression compared to acellular \n",
    "Use Welch's t-test "
   ]
  },
  {
   "cell_type": "code",
   "execution_count": 156,
   "metadata": {},
   "outputs": [],
   "source": [
    "df_ttest = df.copy()"
   ]
  },
  {
   "cell_type": "code",
   "execution_count": 157,
   "metadata": {},
   "outputs": [],
   "source": [
    "# make new columns for the average of each group\n",
    "df_ttest['MRC5_avg'] = df_ttest[['MRC5', 'MRC52', 'MRC53']].mean(axis=1)\n",
    "df_ttest['hOB_avg'] = df_ttest[['hOB', 'hOB2', 'hOB3']].mean(axis=1)\n",
    "df_ttest['ac_avg'] = df_ttest[['ac', 'ac2', 'ac3']].mean(axis=1)"
   ]
  },
  {
   "cell_type": "code",
   "execution_count": 158,
   "metadata": {},
   "outputs": [
    {
     "name": "stdout",
     "output_type": "stream",
     "text": [
      "no. of genes in pathway:  23\n"
     ]
    }
   ],
   "source": [
    "gene_list = df_ttest.index.values.tolist()\n",
    "\n",
    "print('no. of genes in pathway: ', len(gene_list))"
   ]
  },
  {
   "cell_type": "code",
   "execution_count": 159,
   "metadata": {},
   "outputs": [],
   "source": [
    "df_MRC5 = df_ttest[['MRC5', 'MRC52', 'MRC53']].T\n",
    "df_hOB = df_ttest[['hOB', 'hOB2', 'hOB3']].T\n",
    "df_ac = df_ttest[['ac', 'ac2', 'ac3']].T"
   ]
  },
  {
   "cell_type": "code",
   "execution_count": 160,
   "metadata": {},
   "outputs": [],
   "source": [
    "MRC5_changed_genes = []\n",
    "\n",
    "for gene in gene_list:\n",
    "    stat, pval = stats.ttest_ind(df_MRC5[gene], df_ac[gene], equal_var = False)\n",
    "    if pval < 0.05:\n",
    "        MRC5_changed_genes.append(gene)"
   ]
  },
  {
   "cell_type": "code",
   "execution_count": 161,
   "metadata": {},
   "outputs": [],
   "source": [
    "hOB_changed_genes = []\n",
    "\n",
    "for gene in gene_list:\n",
    "    stat, pval = stats.ttest_ind(df_hOB[gene], df_ac[gene], equal_var = False)\n",
    "    if pval < 0.05:\n",
    "        hOB_changed_genes.append(gene)"
   ]
  },
  {
   "cell_type": "code",
   "execution_count": 162,
   "metadata": {},
   "outputs": [
    {
     "name": "stdout",
     "output_type": "stream",
     "text": [
      "% of genes that changed in MRC5:  0.5652173913043478\n",
      "% of genes that changed in hOB:  0.34782608695652173\n"
     ]
    }
   ],
   "source": [
    "print('% of genes that changed in MRC5: ', len(MRC5_changed_genes)/len(gene_list))\n",
    "print('% of genes that changed in hOB: ', len(hOB_changed_genes)/len(gene_list))"
   ]
  },
  {
   "cell_type": "code",
   "execution_count": 163,
   "metadata": {},
   "outputs": [
    {
     "name": "stdout",
     "output_type": "stream",
     "text": [
      "no. of genes that changed in MRC5:  13\n",
      "no. of genes that changed in hOB:  8\n"
     ]
    }
   ],
   "source": [
    "print('no. of genes that changed in MRC5: ', len(MRC5_changed_genes))\n",
    "print('no. of genes that changed in hOB: ', len(hOB_changed_genes))"
   ]
  },
  {
   "cell_type": "code",
   "execution_count": 164,
   "metadata": {},
   "outputs": [
    {
     "name": "stdout",
     "output_type": "stream",
     "text": [
      "no. of genes that changed in both:  6\n",
      "names of genes that changed in both:  {'ROCK1', 'RHOA', 'UBC', 'RPS27A', 'AKT1', 'UBB'}\n"
     ]
    }
   ],
   "source": [
    "print('no. of genes that changed in both: ', len(set(MRC5_changed_genes).intersection(hOB_changed_genes)))\n",
    "print('names of genes that changed in both: ', set(MRC5_changed_genes).intersection(hOB_changed_genes))"
   ]
  },
  {
   "cell_type": "code",
   "execution_count": 165,
   "metadata": {},
   "outputs": [
    {
     "name": "stdout",
     "output_type": "stream",
     "text": [
      "% of genes that changed in either MRC5 or hOB:  65.21739130434783\n"
     ]
    }
   ],
   "source": [
    "print('% of genes that changed in either MRC5 or hOB: ', 100*len(set(MRC5_changed_genes).union(hOB_changed_genes))/len(gene_list))"
   ]
  },
  {
   "cell_type": "code",
   "execution_count": 166,
   "metadata": {},
   "outputs": [
    {
     "name": "stdout",
     "output_type": "stream",
     "text": [
      "no. of genes that increased in MRC5:  5\n",
      "no. of genes that decreased in MRC5:  8\n",
      "percentage of changed genes that increased in MRC5:  0.38461538461538464\n",
      "percentage of changed genes that decreased in MRC5:  0.6153846153846154\n",
      "percentage of genes that increased in MRC5:  0.21739130434782608\n",
      "percentage of genes that decreased in MRC5:  0.34782608695652173\n",
      "names of genes that increased in MRC5:  ['AKT1', 'UBB', 'RHOA', 'UBC', 'RPS27A']\n",
      "names of genes that decreased in MRC5:  ['RUNX3', 'ROCK1', 'MMP9', 'ELANE', 'CMA1', 'MMP3', 'MMP7', 'MMP1']\n"
     ]
    }
   ],
   "source": [
    "# find no. of genes that increased in MRC5\n",
    "MRC5_up_genes = []\n",
    "\n",
    "for gene in MRC5_changed_genes:\n",
    "    if df_ttest.loc[gene, 'MRC5_avg'] > df_ttest.loc[gene, 'ac_avg']:\n",
    "        MRC5_up_genes.append(gene)\n",
    "\n",
    "print('no. of genes that increased in MRC5: ', len(MRC5_up_genes))\n",
    "\n",
    "# find no of genes that decreased in MRC5\n",
    "MRC5_down_genes = []\n",
    "\n",
    "for gene in MRC5_changed_genes:\n",
    "    if df_ttest.loc[gene, 'MRC5_avg'] < df_ttest.loc[gene, 'ac_avg']:\n",
    "        MRC5_down_genes.append(gene)\n",
    "\n",
    "print('no. of genes that decreased in MRC5: ', len(MRC5_down_genes))\n",
    "\n",
    "print('percentage of changed genes that increased in MRC5: ', len(MRC5_up_genes)/len(MRC5_changed_genes))\n",
    "print('percentage of changed genes that decreased in MRC5: ', len(MRC5_down_genes)/len(MRC5_changed_genes))\n",
    "\n",
    "print('percentage of genes that increased in MRC5: ', len(MRC5_up_genes)/len(gene_list))\n",
    "print('percentage of genes that decreased in MRC5: ', len(MRC5_down_genes)/len(gene_list))\n",
    "\n",
    "print('names of genes that increased in MRC5: ', MRC5_up_genes)\n",
    "print('names of genes that decreased in MRC5: ', MRC5_down_genes)"
   ]
  },
  {
   "cell_type": "code",
   "execution_count": 167,
   "metadata": {},
   "outputs": [
    {
     "name": "stdout",
     "output_type": "stream",
     "text": [
      "no. of genes that increased in hOB:  7\n",
      "no. of genes that decreased in hOB:  1\n",
      "percentage of changed genes that increased in hOB:  0.875\n",
      "percentage of changed genes that decreased in hOB:  0.125\n",
      "percentage of genes that increased in hOB:  0.30434782608695654\n",
      "percentage of genes that decreased in hOB:  0.043478260869565216\n",
      "names of genes that increased in hOB:  ['AKT1', 'ROCK1', 'UBB', 'RHOA', 'UBC', 'RPS27A', 'TGFBR2']\n",
      "names of genes that decreased in hOB:  ['CTSG']\n"
     ]
    }
   ],
   "source": [
    "# find no. of genes that increased in hOB\n",
    "hOB_up_genes = []\n",
    "\n",
    "for gene in hOB_changed_genes:\n",
    "    if df_ttest.loc[gene, 'hOB_avg'] > df_ttest.loc[gene, 'ac_avg']:\n",
    "        hOB_up_genes.append(gene)\n",
    "\n",
    "print('no. of genes that increased in hOB: ', len(hOB_up_genes))\n",
    "\n",
    "# find no of genes that decreased in hOB\n",
    "hOB_down_genes = []\n",
    "\n",
    "for gene in hOB_changed_genes:\n",
    "    if df_ttest.loc[gene, 'hOB_avg'] < df_ttest.loc[gene, 'ac_avg']:\n",
    "        hOB_down_genes.append(gene)\n",
    "\n",
    "print('no. of genes that decreased in hOB: ', len(hOB_down_genes))\n",
    "\n",
    "print('percentage of changed genes that increased in hOB: ', len(hOB_up_genes)/len(hOB_changed_genes))\n",
    "print('percentage of changed genes that decreased in hOB: ', len(hOB_down_genes)/len(hOB_changed_genes))\n",
    "\n",
    "print('percentage of genes that increased in hOB: ', len(hOB_up_genes)/len(gene_list))\n",
    "print('percentage of genes that decreased in hOB: ', len(hOB_down_genes)/len(gene_list))\n",
    "\n",
    "print('names of genes that increased in hOB: ', hOB_up_genes)\n",
    "print('names of genes that decreased in hOB: ', hOB_down_genes)"
   ]
  },
  {
   "cell_type": "code",
   "execution_count": 168,
   "metadata": {},
   "outputs": [
    {
     "name": "stdout",
     "output_type": "stream",
     "text": [
      "no. of genes that increased in both:  5\n",
      "no. of genes that decreased in both:  0\n",
      "names of genes that increased in both:  ['RHOA', 'UBC', 'RPS27A', 'AKT1', 'UBB']\n",
      "names of genes that decreased in both:  []\n"
     ]
    }
   ],
   "source": [
    "# find no. of genes that increased in both\n",
    "both_up_genes = []\n",
    "\n",
    "for gene in set(MRC5_changed_genes).intersection(hOB_changed_genes):\n",
    "    if df_ttest.loc[gene, 'MRC5_avg'] > df_ttest.loc[gene, 'ac_avg'] and df_ttest.loc[gene, 'hOB_avg'] > df_ttest.loc[gene, 'ac_avg']:\n",
    "        both_up_genes.append(gene)\n",
    "\n",
    "print('no. of genes that increased in both: ', len(both_up_genes))\n",
    "\n",
    "# find no of genes that decreased in both\n",
    "both_down_genes = []\n",
    "\n",
    "for gene in set(MRC5_changed_genes).intersection(hOB_changed_genes):\n",
    "    if df_ttest.loc[gene, 'MRC5_avg'] < df_ttest.loc[gene, 'ac_avg'] and df_ttest.loc[gene, 'hOB_avg'] < df_ttest.loc[gene, 'ac_avg']:\n",
    "        both_down_genes.append(gene)\n",
    "\n",
    "print('no. of genes that decreased in both: ', len(both_down_genes))\n",
    "\n",
    "print('names of genes that increased in both: ', both_up_genes)\n",
    "print('names of genes that decreased in both: ', both_down_genes)"
   ]
  },
  {
   "cell_type": "code",
   "execution_count": 169,
   "metadata": {},
   "outputs": [
    {
     "name": "stdout",
     "output_type": "stream",
     "text": [
      "no of genes that increased in MRC5 and decreased in hOB:  0\n",
      "names of genes that increased in MRC5 and decreased in hOB:  set()\n",
      "no of genes that decreased in MRC5 and increased in hOB:  1\n",
      "names of genes that decreased in MRC5 and increased in hOB:  {'ROCK1'}\n"
     ]
    }
   ],
   "source": [
    "print('no of genes that increased in MRC5 and decreased in hOB: ', len(set(MRC5_up_genes).intersection(hOB_down_genes)))\n",
    "print('names of genes that increased in MRC5 and decreased in hOB: ', set(MRC5_up_genes).intersection(hOB_down_genes))\n",
    "\n",
    "print('no of genes that decreased in MRC5 and increased in hOB: ', len(set(MRC5_down_genes).intersection(hOB_up_genes)))\n",
    "print('names of genes that decreased in MRC5 and increased in hOB: ', set(MRC5_down_genes).intersection(hOB_up_genes))"
   ]
  },
  {
   "attachments": {},
   "cell_type": "markdown",
   "metadata": {},
   "source": [
    "## T-test which genes were differentially expressed hOB vs MRC5"
   ]
  },
  {
   "cell_type": "code",
   "execution_count": 170,
   "metadata": {},
   "outputs": [
    {
     "name": "stdout",
     "output_type": "stream",
     "text": [
      "no. of genes that changed in MRC5 vs hOB:  5\n",
      "% of genes that changed in MRC5 vs hOB:  0.21739130434782608\n"
     ]
    }
   ],
   "source": [
    "hOB_vs_MRC5_changed_genes = []\n",
    "\n",
    "for gene in gene_list:\n",
    "    stat, pval = stats.ttest_ind(df_hOB[gene], df_MRC5[gene])\n",
    "    if pval < 0.05:\n",
    "        hOB_vs_MRC5_changed_genes.append(gene)\n",
    "\n",
    "print('no. of genes that changed in MRC5 vs hOB: ', len(hOB_vs_MRC5_changed_genes))\n",
    "print('% of genes that changed in MRC5 vs hOB: ', len(hOB_vs_MRC5_changed_genes)/len(gene_list))"
   ]
  },
  {
   "cell_type": "code",
   "execution_count": 171,
   "metadata": {},
   "outputs": [
    {
     "name": "stdout",
     "output_type": "stream",
     "text": [
      "no. of genes that increased in MRC5 vs hOB:  1\n",
      "% of changed genes that increased in MRC5 vs hOB:  0.2\n",
      "% of total genes that increased in MRC5 vs hOB:  0.043478260869565216\n",
      "names of genes that increased in MRC5 vs hOB:  ['UBB']\n",
      "no. of genes that decreased in MRC5 vs hOB:  4\n",
      "% of changed genes that decreased in MRC5 vs hOB:  0.8\n",
      "% of total genes that decreased in MRC5 vs hOB:  0.17391304347826086\n",
      "names of genes that decreased in MRC5 vs hOB:  ['ROCK1', 'RHOA', 'TGFBR2', 'MMP9']\n"
     ]
    }
   ],
   "source": [
    "# find no. of genes that increased in MRC5 vs hOB\n",
    "MRC5_up_vs_hOB_genes = []\n",
    "\n",
    "for gene in hOB_vs_MRC5_changed_genes:\n",
    "    if df_ttest.loc[gene, 'MRC5_avg'] > df_ttest.loc[gene, 'hOB_avg']:\n",
    "        MRC5_up_vs_hOB_genes.append(gene)\n",
    "\n",
    "print('no. of genes that increased in MRC5 vs hOB: ', len(MRC5_up_vs_hOB_genes))\n",
    "print('% of changed genes that increased in MRC5 vs hOB: ', len(MRC5_up_vs_hOB_genes)/len(hOB_vs_MRC5_changed_genes))\n",
    "print('% of total genes that increased in MRC5 vs hOB: ', len(MRC5_up_vs_hOB_genes)/len(gene_list))\n",
    "print('names of genes that increased in MRC5 vs hOB: ', MRC5_up_vs_hOB_genes)\n",
    "\n",
    "# find no of genes that decreased in MRC5 vs hOB\n",
    "MRC5_down_vs_hOB_genes = []\n",
    "\n",
    "for gene in hOB_vs_MRC5_changed_genes:\n",
    "    if df_ttest.loc[gene, 'MRC5_avg'] < df_ttest.loc[gene, 'hOB_avg']:\n",
    "        MRC5_down_vs_hOB_genes.append(gene)\n",
    "\n",
    "print('no. of genes that decreased in MRC5 vs hOB: ', len(MRC5_down_vs_hOB_genes))\n",
    "print('% of changed genes that decreased in MRC5 vs hOB: ', len(MRC5_down_vs_hOB_genes)/len(hOB_vs_MRC5_changed_genes))\n",
    "print('% of total genes that decreased in MRC5 vs hOB: ', len(MRC5_down_vs_hOB_genes)/len(gene_list))\n",
    "print('names of genes that decreased in MRC5 vs hOB: ', MRC5_down_vs_hOB_genes)"
   ]
  },
  {
   "attachments": {},
   "cell_type": "markdown",
   "metadata": {},
   "source": [
    "## Clustermap for genes that were significantly differentially expressed \n",
    "Either hOB vs acellular, MRC5 vs acellular, or MRC5 vs hOB"
   ]
  },
  {
   "cell_type": "code",
   "execution_count": 172,
   "metadata": {},
   "outputs": [],
   "source": [
    "hOB_changed_genes_set = set(hOB_changed_genes)\n",
    "MRC5_changed_genes_set = set(MRC5_changed_genes)\n",
    "hOB_vs_MRC5_changed_genes_set = set(hOB_vs_MRC5_changed_genes)"
   ]
  },
  {
   "cell_type": "code",
   "execution_count": 173,
   "metadata": {},
   "outputs": [
    {
     "name": "stdout",
     "output_type": "stream",
     "text": [
      "15\n",
      "['ROCK1', 'MMP3', 'UBC', 'TGFBR2', 'RPS27A', 'RUNX3', 'MMP7', 'CTSG', 'ELANE', 'RHOA', 'CMA1', 'MMP1', 'MMP9', 'AKT1', 'UBB']\n"
     ]
    }
   ],
   "source": [
    "all_sig_genes = list(hOB_changed_genes_set.union(MRC5_changed_genes_set).union(hOB_vs_MRC5_changed_genes_set))\n",
    "\n",
    "print(len(all_sig_genes))\n",
    "\n",
    "print(all_sig_genes)"
   ]
  },
  {
   "cell_type": "code",
   "execution_count": 174,
   "metadata": {},
   "outputs": [
    {
     "data": {
      "text/html": [
       "<div>\n",
       "<style scoped>\n",
       "    .dataframe tbody tr th:only-of-type {\n",
       "        vertical-align: middle;\n",
       "    }\n",
       "\n",
       "    .dataframe tbody tr th {\n",
       "        vertical-align: top;\n",
       "    }\n",
       "\n",
       "    .dataframe thead th {\n",
       "        text-align: right;\n",
       "    }\n",
       "</style>\n",
       "<table border=\"1\" class=\"dataframe\">\n",
       "  <thead>\n",
       "    <tr style=\"text-align: right;\">\n",
       "      <th></th>\n",
       "      <th>ac</th>\n",
       "      <th>ac2</th>\n",
       "      <th>ac3</th>\n",
       "      <th>MRC5</th>\n",
       "      <th>MRC52</th>\n",
       "      <th>MRC53</th>\n",
       "      <th>hOB</th>\n",
       "      <th>hOB2</th>\n",
       "      <th>hOB3</th>\n",
       "    </tr>\n",
       "    <tr>\n",
       "      <th>Target</th>\n",
       "      <th></th>\n",
       "      <th></th>\n",
       "      <th></th>\n",
       "      <th></th>\n",
       "      <th></th>\n",
       "      <th></th>\n",
       "      <th></th>\n",
       "      <th></th>\n",
       "      <th></th>\n",
       "    </tr>\n",
       "  </thead>\n",
       "  <tbody>\n",
       "    <tr>\n",
       "      <th>ROCK1</th>\n",
       "      <td>3.572932</td>\n",
       "      <td>3.476824</td>\n",
       "      <td>3.537292</td>\n",
       "      <td>3.317367</td>\n",
       "      <td>3.330296</td>\n",
       "      <td>3.186994</td>\n",
       "      <td>3.813080</td>\n",
       "      <td>3.757885</td>\n",
       "      <td>3.755829</td>\n",
       "    </tr>\n",
       "    <tr>\n",
       "      <th>MMP3</th>\n",
       "      <td>3.614649</td>\n",
       "      <td>3.345459</td>\n",
       "      <td>3.748924</td>\n",
       "      <td>2.447733</td>\n",
       "      <td>2.416208</td>\n",
       "      <td>2.572739</td>\n",
       "      <td>3.446470</td>\n",
       "      <td>2.582523</td>\n",
       "      <td>3.153057</td>\n",
       "    </tr>\n",
       "    <tr>\n",
       "      <th>UBC</th>\n",
       "      <td>4.390806</td>\n",
       "      <td>4.513860</td>\n",
       "      <td>3.888161</td>\n",
       "      <td>7.357448</td>\n",
       "      <td>7.366992</td>\n",
       "      <td>7.714851</td>\n",
       "      <td>7.308261</td>\n",
       "      <td>8.164160</td>\n",
       "      <td>7.138856</td>\n",
       "    </tr>\n",
       "    <tr>\n",
       "      <th>TGFBR2</th>\n",
       "      <td>3.534938</td>\n",
       "      <td>3.799965</td>\n",
       "      <td>3.651385</td>\n",
       "      <td>3.746049</td>\n",
       "      <td>4.135953</td>\n",
       "      <td>3.774701</td>\n",
       "      <td>5.090888</td>\n",
       "      <td>6.172142</td>\n",
       "      <td>5.894552</td>\n",
       "    </tr>\n",
       "    <tr>\n",
       "      <th>RPS27A</th>\n",
       "      <td>4.148258</td>\n",
       "      <td>3.942622</td>\n",
       "      <td>3.755843</td>\n",
       "      <td>5.884026</td>\n",
       "      <td>5.600955</td>\n",
       "      <td>5.885888</td>\n",
       "      <td>5.700798</td>\n",
       "      <td>6.004192</td>\n",
       "      <td>5.966504</td>\n",
       "    </tr>\n",
       "  </tbody>\n",
       "</table>\n",
       "</div>"
      ],
      "text/plain": [
       "              ac       ac2       ac3      MRC5     MRC52     MRC53       hOB  \\\n",
       "Target                                                                         \n",
       "ROCK1   3.572932  3.476824  3.537292  3.317367  3.330296  3.186994  3.813080   \n",
       "MMP3    3.614649  3.345459  3.748924  2.447733  2.416208  2.572739  3.446470   \n",
       "UBC     4.390806  4.513860  3.888161  7.357448  7.366992  7.714851  7.308261   \n",
       "TGFBR2  3.534938  3.799965  3.651385  3.746049  4.135953  3.774701  5.090888   \n",
       "RPS27A  4.148258  3.942622  3.755843  5.884026  5.600955  5.885888  5.700798   \n",
       "\n",
       "            hOB2      hOB3  \n",
       "Target                      \n",
       "ROCK1   3.757885  3.755829  \n",
       "MMP3    2.582523  3.153057  \n",
       "UBC     8.164160  7.138856  \n",
       "TGFBR2  6.172142  5.894552  \n",
       "RPS27A  6.004192  5.966504  "
      ]
     },
     "execution_count": 174,
     "metadata": {},
     "output_type": "execute_result"
    }
   ],
   "source": [
    "df_sig_genes = df.loc[all_sig_genes]\n",
    "\n",
    "df_sig_genes.head()\n"
   ]
  },
  {
   "cell_type": "code",
   "execution_count": 175,
   "metadata": {},
   "outputs": [],
   "source": [
    "# get the clusters:\n",
    "d = sch.distance.pdist(df_sig_genes)\n",
    "\n",
    "L = sch.linkage(d, method = 'complete', metric = 'correlation')\n",
    "\n",
    "# clusters = sch.fcluster(L, 0.1*d.max(), 'distance') # 0.2 can be modified to retrieve more stringent or relaxed clusters\n",
    "clusters = sch.fcluster(L, t=3, criterion='maxclust') # Alternatively, you can use the number of clusters you want to retrieve"
   ]
  },
  {
   "cell_type": "code",
   "execution_count": 176,
   "metadata": {},
   "outputs": [],
   "source": [
    "# colour scheme for stroma: acellular = red, MRC5 = orange, hOB = purple\n",
    "\n",
    "lut = {'MRC5': 'tab:orange',\n",
    "'MRC52': 'tab:orange', \n",
    "'MRC53': 'tab:orange', \n",
    "'hOB': 'tab:purple',\n",
    "'hOB2': 'tab:purple',\n",
    "'hOB3': 'tab:purple',\n",
    "'ac': 'tab:red',\n",
    "'ac2': 'tab:red',\n",
    "'ac3': 'tab:red',\n",
    "}"
   ]
  },
  {
   "cell_type": "code",
   "execution_count": 177,
   "metadata": {},
   "outputs": [
    {
     "data": {
      "image/png": "[encoded data removed]",
      "text/plain": [
       "<Figure size 720x720 with 5 Axes>"
      ]
     },
     "metadata": {
      "needs_background": "light"
     },
     "output_type": "display_data"
    }
   ],
   "source": [
    "# compute the linkage matrix:\n",
    "\n",
    "L = sch.linkage(d, method='complete')\n",
    "\n",
    "sns.set_context('notebook')\n",
    "\n",
    "column_colors = df_sig_genes.columns.map(lut)\n",
    "\n",
    "\n",
    "# Use the computed linkage matrices in seaborn clustermap:\n",
    "g = sns.clustermap(df_sig_genes, cmap='viridis', row_linkage=L, col_colors=column_colors, cbar_pos = (1.15, 0.4, 0.04, 0.2)) \n",
    "\n",
    "# add colorbar title\n",
    "g.cax.set_title('Log2 expression', fontsize=16, y = -0.2)\n",
    "\n",
    "# increase colorbar font size\n",
    "g.cax.tick_params(labelsize=12)\n",
    "\n",
    "# change y axis title\n",
    "g.ax_heatmap.set_ylabel('')#, fontsize=16)\n",
    "\n",
    "g.ax_heatmap.set_xlabel('Samples', fontsize=18)\n",
    "\n",
    "# remove x tick labels\n",
    "g.ax_heatmap.set_xticklabels([])\n",
    "# remove x ticks\n",
    "g.ax_heatmap.set_xticks([])\n",
    "\n",
    "# annotate the column colors with the sample names\n",
    "# !! NB this may need to be edited for each pathway to keep the colour scheme consistent\n",
    "g.ax_col_colors.text(4.5, 0.5, 'MRC5', fontsize=20, ha='center', va='center', color='white')\n",
    "g.ax_col_colors.text(1.5, 0.5, 'acellular', fontsize=20, ha='center', va='center', color='white')\n",
    "g.ax_col_colors.text(7.5, 0.5, 'hOB', fontsize=20, ha='center', va='center', color='white')\n",
    "\n",
    "# make y tick labels bigger and bold\n",
    "g.ax_heatmap.set_yticklabels(g.ax_heatmap.get_yticklabels(), fontsize=18, fontweight='bold', rotation=0)\n",
    "\n",
    "# add a title\n",
    "g.ax_heatmap.set_title(f'{pathway_name} pathway', fontsize=20, pad = 160)\n",
    "\n",
    "# save the figure:\n",
    "g.savefig(f'../pathway_figures/{pathway_name}_clustermap.pdf', dpi=300)"
   ]
  },
  {
   "cell_type": "code",
   "execution_count": null,
   "metadata": {},
   "outputs": [],
   "source": []
  }
 ],
 "metadata": {
  "kernelspec": {
   "display_name": "Python 3.8.8 ('base')",
   "language": "python",
   "name": "python3"
  },
  "language_info": {
   "codemirror_mode": {
    "name": "ipython",
    "version": 3
   },
   "file_extension": ".py",
   "mimetype": "text/x-python",
   "name": "python",
   "nbconvert_exporter": "python",
   "pygments_lexer": "ipython3",
   "version": "3.7.3"
  },
  "orig_nbformat": 4,
  "vscode": {
   "interpreter": {
    "hash": "e15a91b2be2c8c7c7ece1f74598c89277cf375967b74fd2eeb252f25808b265f"
   }
  }
 },
 "nbformat": 4,
 "nbformat_minor": 2
}
